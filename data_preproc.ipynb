{
 "cells": [
  {
   "cell_type": "code",
   "execution_count": null,
   "metadata": {},
   "outputs": [],
   "source": [
    "# default_exp data_preproc"
   ]
  },
  {
   "cell_type": "code",
   "execution_count": null,
   "metadata": {},
   "outputs": [],
   "source": [
    "# hide\n",
    "from nbdev.showdoc import *"
   ]
  },
  {
   "cell_type": "markdown",
   "metadata": {},
   "source": [
    "# data_preproc\n",
    "\n",
    "> Functions facilitating data preprocessing for use with `bcml_model`"
   ]
  },
  {
   "cell_type": "code",
   "execution_count": null,
   "metadata": {},
   "outputs": [],
   "source": [
    "# export\n",
    "import numpy as np"
   ]
  },
  {
   "cell_type": "code",
   "execution_count": null,
   "metadata": {},
   "outputs": [],
   "source": [
    "# export\n",
    "def label_predictors(data, isSig, bgType=None):\n",
    "    r\"\"\"\n",
    "    Takes in $? \\times M$ array of predictors ($?$ points in $\\mathbb{R}^m$) and appends a \n",
    "    label to each row ($1$ if signal, $0$ or a negative integer if background) to prepare for training/testing.\n",
    "    \n",
    "    Returns a $? \\times (M + 1)$ array of labelled predictors where the final column is $0$ if `isSig` is `True`\n",
    "    and either $0$ (if `bgType` isn't passed) or `bgType` (if it is passed; supposed to be a negative integer\n",
    "    marking background type, i.e., $-2$ denotes the background of type $2$) if `isSig` is `False`.\n",
    "    \"\"\"\n",
    "    append_val = 1 if isSig else (bgType if bgType else 0)\n",
    "    return np.concatenate((data, np.ones((len(data),1)) * append_val), axis=1)"
   ]
  },
  {
   "cell_type": "code",
   "execution_count": null,
   "metadata": {},
   "outputs": [],
   "source": []
  }
 ],
 "metadata": {
  "kernelspec": {
   "display_name": "Python 3",
   "language": "python",
   "name": "python3"
  }
 },
 "nbformat": 4,
 "nbformat_minor": 4
}
