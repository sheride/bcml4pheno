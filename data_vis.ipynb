{
 "cells": [
  {
   "cell_type": "code",
   "execution_count": null,
   "metadata": {},
   "outputs": [],
   "source": [
    "# default_exp data_vis"
   ]
  },
  {
   "cell_type": "code",
   "execution_count": null,
   "metadata": {},
   "outputs": [],
   "source": [
    "# hide\n",
    "from nbdev.showdoc import *"
   ]
  },
  {
   "cell_type": "markdown",
   "metadata": {},
   "source": [
    "# data_vis\n",
    "\n",
    "> Classes and functions enabling miscellaneous relevant data visualization tasks"
   ]
  },
  {
   "cell_type": "code",
   "execution_count": null,
   "metadata": {},
   "outputs": [],
   "source": [
    "# export\n",
    "import numpy as np\n",
    "import scipy.interpolate\n",
    "import matplotlib.pyplot as plt"
   ]
  },
  {
   "cell_type": "code",
   "execution_count": null,
   "metadata": {},
   "outputs": [],
   "source": [
    "# export\n",
    "def get_settings():\n",
    "    \"\"\"\n",
    "    Returns some nice default settings for matplotlib to be used with `matplotlib.pyplot.rc_context`.\n",
    "    \"\"\"\n",
    "    return {'axes.labelsize': 32,\n",
    "            'xtick.major.size': 10,\n",
    "            'xtick.major.width': 1.5,\n",
    "            'xtick.labelsize': 24,\n",
    "            'ytick.major.size': 10,\n",
    "            'ytick.major.width': 1.5,\n",
    "            'ytick.labelsize': 24,\n",
    "            'legend.fontsize': 18,\n",
    "            'lines.linewidth': 4,\n",
    "            'lines.markersize': 10,\n",
    "            'figure.figsize': (12,8)}"
   ]
  },
  {
   "cell_type": "code",
   "execution_count": null,
   "metadata": {},
   "outputs": [],
   "source": [
    "# export\n",
    "class cross_section_helper:\n",
    "    \"\"\"\n",
    "    Class enabling computations and visualizations relating to signal and background cross sections\n",
    "    \"\"\"\n",
    "    \n",
    "    def __init__(self, masses, sig_css, bg_css, mass_units='GeV'):\n",
    "        self.masses = masses\n",
    "        self.sig_css = sig_css\n",
    "        self.bg_css = bg_css\n",
    "        self.mass_units = mass_units\n",
    "        self.log_sig_css = np.log10(self.sig_css)\n",
    "        self.m2logcsF = scipy.interpolate.interp1d(self.masses, self.log_sig_css, kind='cubic')\n",
    "        self.logcs2mF = scipy.interpolate.interp1d(self.m2logcsF(self.masses), self.masses, kind='cubic')\n",
    "        # WHERE TO PUT THIS VARIABLE?\n",
    "        self.conv = 10**15 / 10**12 # cross sec (pb) * lumi (fb^{-1}) * self.conv = number of events\n",
    "        \n",
    "    def sig_cs(self, masses, who='E'):\n",
    "        r\"\"\"\n",
    "        Given a mass, returns the signal cross section (in pb) through interpolation\n",
    "        \"\"\"\n",
    "        return np.power(10, self.m2logcsF(masses))\n",
    "    \n",
    "    def mass(self, css, who='E'):\n",
    "        r\"\"\"\n",
    "        Given a cross section, returns the particle mass value yielding that signal cross section \n",
    "        \"\"\"\n",
    "        return self.logcs2mF(np.log10(css))\n",
    "    \n",
    "    def absolute_max_mass_sens(self, lumi=3000, sig=5):\n",
    "        \"\"\"\n",
    "        Given a luminosity and desired signal significance, returns the best-case scenario highest probeable mass\n",
    "        (i.e., TPR = 1, FPR = 0)\n",
    "        \"\"\"\n",
    "        return self.mass(sig**2 / (lumi * self.conv))\n",
    "\n",
    "    def max_mass_sens_versus_tpr_fpr(self, plot=True, sig=5, lumi=3000, tpr_bounds=(0.1,1), fpr_bounds=(10**-7, 0.5), res=1000, \n",
    "                                     cvalues=None, clabels=None, manual=None):\n",
    "        \"\"\"\n",
    "        For fixed luminosity and desired signal significance, plot the maximum mass sensitivity as a function of a\n",
    "        binary classifier's true positive rate and false positive rate.\n",
    "        \"\"\"\n",
    "        tprs = np.linspace(tpr_bounds[0], tpr_bounds[1], 100)\n",
    "        fprs = np.sort(np.logspace(np.log10(fpr_bounds[0]), np.log10(fpr_bounds[1]), num=100, base=10))\n",
    "        bg_yield = self.conv * np.sum(self.bg_css) * lumi\n",
    "        coefsss = [\n",
    "            [[-(self.conv * tpr * lumi)**2, sig**2 * self.conv * tpr * lumi, sig**2 * fpr * bg_yield] for fpr in fprs] for tpr in tprs]\n",
    "        sig_csss = [[np.amax(np.roots(coefs)) for coefs in coefss] for coefss in coefsss]\n",
    "        max_mass_senss = self.mass(sig_csss)\n",
    "        \n",
    "        # have found this plot works best when plotting log(fpr) on y-axis\n",
    "        log_fprs = np.log10(fprs)\n",
    "        ext = [tprs[0], tprs[-1], log_fprs[0], log_fprs[-1]]\n",
    "        pts = np.array([[tpr,log_fpr] for tpr in tprs for log_fpr in log_fprs])\n",
    "        data = max_mass_senss.flatten()\n",
    "        grid = np.array(\n",
    "                [[[x,y] for x in np.linspace(ext[0], ext[1], res)]\n",
    "                for y in np.linspace(ext[2], ext[3], res)])\n",
    "        interp = scipy.interpolate.griddata(pts, data, grid)\n",
    "\n",
    "        if plot:  \n",
    "            with plt.rc_context(get_settings()):\n",
    "                plt.imshow(interp, origin='lower', aspect='auto', extent=ext, cmap='winter')\n",
    "                cbar = plt.colorbar()\n",
    "                plt.xlabel(r'{}'.format('True Positive Rate'))\n",
    "                plt.ylabel(r'{}'.format('False Postive Rate'))\n",
    "                cbar.set_label(r'{}'.format(f\"Mass Sensitivity ({self.mass_units})\"), rotation=90)\n",
    "                if None not in [cvalues, clabels]:\n",
    "                    result = plt.contour(grid[:,:,0], grid[:,:,1], interp, cvalues, colors='white',\n",
    "                                                 linewidths=3, linestyles='dashed')\n",
    "                    fmt = {lev:lab for lev, lab in zip(result.levels, clabels)}\n",
    "                    plt.clabel(result, result.levels, inline=True, fmt=fmt, fontsize=32, manual=manual)\n",
    "                minytick, maxytick = [int(log_fprs[0]) + 1, int(log_fprs[-1]) - 1]\n",
    "                plt.yticks(\n",
    "                    [i for i in range(minytick, maxytick+1)], [r'$10^{' + f'{i}' + r'}$' for i in range(minytick, maxytick+1)])\n",
    "                \n",
    "        return [grid, interp]"
   ]
  },
  {
   "cell_type": "markdown",
   "metadata": {},
   "source": [
    "### Getting up and running"
   ]
  },
  {
   "cell_type": "markdown",
   "metadata": {},
   "source": [
    "To create an instance of `cross_section_helper`, you need three things. First, you need to pass a list `masses` which contains the new particle masses for which you have cross sections. Second, you need to pass list `sig_css` which has the same length as `masses` which gives the signal cross section (in pb) associated with the elements of `masses`. Finally, you need to pass a list `bg_css` which provides the cross sections for whatever the relevant background processes are."
   ]
  },
  {
   "cell_type": "markdown",
   "metadata": {},
   "source": [
    "From these arguments, the instance of `cross_section_helper` produces a few other variables. These are reasonably intuitive based on the variable name: `m2logcsF`, for instance, gives an interpolated function mapping a new particle mass to $log_{10}(\\sigma_s)$, the log of the associated signal cross section."
   ]
  },
  {
   "cell_type": "markdown",
   "metadata": {},
   "source": [
    "### Basic Functionality"
   ]
  },
  {
   "cell_type": "code",
   "execution_count": null,
   "metadata": {},
   "outputs": [
    {
     "data": {
      "text/markdown": [
       "<h4 id=\"cross_section_helper.sig_cs\" class=\"doc_header\"><code>cross_section_helper.sig_cs</code><a href=\"__main__.py#L18\" class=\"source_link\" style=\"float:right\">[source]</a></h4>\n",
       "\n",
       "> <code>cross_section_helper.sig_cs</code>(**`masses`**, **`who`**=*`'E'`*)\n",
       "\n",
       "Given a mass, returns the signal cross section (in pb) through interpolation"
      ],
      "text/plain": [
       "<IPython.core.display.Markdown object>"
      ]
     },
     "metadata": {},
     "output_type": "display_data"
    }
   ],
   "source": [
    "show_doc(cross_section_helper.sig_cs)"
   ]
  },
  {
   "cell_type": "code",
   "execution_count": null,
   "metadata": {},
   "outputs": [
    {
     "data": {
      "text/markdown": [
       "<h4 id=\"cross_section_helper.mass\" class=\"doc_header\"><code>cross_section_helper.mass</code><a href=\"__main__.py#L24\" class=\"source_link\" style=\"float:right\">[source]</a></h4>\n",
       "\n",
       "> <code>cross_section_helper.mass</code>(**`css`**, **`who`**=*`'E'`*)\n",
       "\n",
       "Given a cross section, returns the particle mass value yielding that signal cross section "
      ],
      "text/plain": [
       "<IPython.core.display.Markdown object>"
      ]
     },
     "metadata": {},
     "output_type": "display_data"
    }
   ],
   "source": [
    "show_doc(cross_section_helper.mass)"
   ]
  },
  {
   "cell_type": "code",
   "execution_count": null,
   "metadata": {},
   "outputs": [
    {
     "data": {
      "text/markdown": [
       "<h4 id=\"cross_section_helper.absolute_max_mass_sens\" class=\"doc_header\"><code>cross_section_helper.absolute_max_mass_sens</code><a href=\"__main__.py#L30\" class=\"source_link\" style=\"float:right\">[source]</a></h4>\n",
       "\n",
       "> <code>cross_section_helper.absolute_max_mass_sens</code>(**`lumi`**=*`3000`*, **`sig`**=*`5`*)\n",
       "\n",
       "Given a luminosity and desired signal significance, returns the best-case scenario highest probeable mass\n",
       "(i.e., TPR = 1, FPR = 0)"
      ],
      "text/plain": [
       "<IPython.core.display.Markdown object>"
      ]
     },
     "metadata": {},
     "output_type": "display_data"
    }
   ],
   "source": [
    "show_doc(cross_section_helper.absolute_max_mass_sens)"
   ]
  },
  {
   "cell_type": "code",
   "execution_count": null,
   "metadata": {},
   "outputs": [
    {
     "data": {
      "text/markdown": [
       "<h4 id=\"cross_section_helper.max_mass_sens_versus_tpr_fpr\" class=\"doc_header\"><code>cross_section_helper.max_mass_sens_versus_tpr_fpr</code><a href=\"__main__.py#L37\" class=\"source_link\" style=\"float:right\">[source]</a></h4>\n",
       "\n",
       "> <code>cross_section_helper.max_mass_sens_versus_tpr_fpr</code>(**`plot`**=*`True`*, **`sig`**=*`5`*, **`lumi`**=*`3000`*, **`tpr_bounds`**=*`(0.1, 1)`*, **`fpr_bounds`**=*`(1e-07, 0.5)`*, **`res`**=*`1000`*, **`cvalues`**=*`None`*, **`clabels`**=*`None`*, **`manual`**=*`None`*)\n",
       "\n",
       "For fixed luminosity and desired signal significance, plot the maximum mass sensitivity as a function of a\n",
       "binary classifier's true positive rate and false positive rate."
      ],
      "text/plain": [
       "<IPython.core.display.Markdown object>"
      ]
     },
     "metadata": {},
     "output_type": "display_data"
    }
   ],
   "source": [
    "show_doc(cross_section_helper.max_mass_sens_versus_tpr_fpr)"
   ]
  },
  {
   "cell_type": "code",
   "execution_count": null,
   "metadata": {},
   "outputs": [
    {
     "ename": "NameError",
     "evalue": "name 'get_elijah_ttbarzp_cs' is not defined",
     "output_type": "error",
     "traceback": [
      "\u001b[0;31m---------------------------------------------------------------------------\u001b[0m",
      "\u001b[0;31mNameError\u001b[0m                                 Traceback (most recent call last)",
      "\u001b[0;32m<ipython-input-39-92e0f3c96e18>\u001b[0m in \u001b[0;36m<module>\u001b[0;34m\u001b[0m\n\u001b[0;32m----> 1\u001b[0;31m \u001b[0mmasses\u001b[0m\u001b[0;34m,\u001b[0m \u001b[0msig_css\u001b[0m\u001b[0;34m,\u001b[0m \u001b[0mbg_css\u001b[0m \u001b[0;34m=\u001b[0m \u001b[0mget_elijah_ttbarzp_cs\u001b[0m\u001b[0;34m(\u001b[0m\u001b[0;34m)\u001b[0m\u001b[0;34m\u001b[0m\u001b[0;34m\u001b[0m\u001b[0m\n\u001b[0m\u001b[1;32m      2\u001b[0m \u001b[0melijah_ttbarzp\u001b[0m \u001b[0;34m=\u001b[0m \u001b[0mcross_section_helper\u001b[0m\u001b[0;34m(\u001b[0m\u001b[0mmasses\u001b[0m\u001b[0;34m,\u001b[0m \u001b[0msig_css\u001b[0m\u001b[0;34m,\u001b[0m \u001b[0mbg_css\u001b[0m\u001b[0;34m)\u001b[0m\u001b[0;34m\u001b[0m\u001b[0;34m\u001b[0m\u001b[0m\n",
      "\u001b[0;31mNameError\u001b[0m: name 'get_elijah_ttbarzp_cs' is not defined"
     ]
    }
   ],
   "source": [
    "masses, sig_css, bg_css = get_elijah_ttbarzp_cs()\n",
    "elijah_ttbarzp = cross_section_helper(masses, sig_css, bg_css)"
   ]
  },
  {
   "cell_type": "code",
   "execution_count": null,
   "metadata": {},
   "outputs": [],
   "source": [
    "print(np.round(elijah_ttbarzp.absolute_max_mass_sens(),3), elijah_ttbarzp.mass_units)"
   ]
  },
  {
   "cell_type": "code",
   "execution_count": null,
   "metadata": {},
   "outputs": [],
   "source": [
    "cvalues = [500, 750, 1000, 1500, 2000]\n",
    "clabels = [str(val) for val in cvalues]\n",
    "manual = [(0.85, -1), (0.85, -2), (0.85, -3), (0.85, -3.5), (0.85, -6)]\n",
    "elijah_ttbarzp.max_mass_sens_versus_tpr_fpr(plot=True, cvalues=cvalues, clabels=clabels, manual=manual);"
   ]
  },
  {
   "cell_type": "code",
   "execution_count": null,
   "metadata": {},
   "outputs": [],
   "source": []
  }
 ],
 "metadata": {
  "kernelspec": {
   "display_name": "Python 3",
   "language": "python",
   "name": "python3"
  }
 },
 "nbformat": 4,
 "nbformat_minor": 4
}
