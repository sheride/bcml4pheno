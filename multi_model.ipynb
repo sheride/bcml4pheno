{
 "cells": [
  {
   "cell_type": "code",
   "execution_count": null,
   "metadata": {},
   "outputs": [],
   "source": [
    "# default_exp multi_model"
   ]
  },
  {
   "cell_type": "code",
   "execution_count": null,
   "metadata": {},
   "outputs": [],
   "source": [
    "# hide\n",
    "from nbdev.showdoc import *"
   ]
  },
  {
   "cell_type": "markdown",
   "metadata": {},
   "source": [
    "# multi_model\n",
    "\n",
    "> Class representing a list of `bcml_object` models, parameterized by a number"
   ]
  },
  {
   "cell_type": "code",
   "execution_count": null,
   "metadata": {},
   "outputs": [],
   "source": [
    "# export\n",
    "import numpy as np\n",
    "import scipy.interpolate"
   ]
  },
  {
   "cell_type": "code",
   "execution_count": null,
   "metadata": {},
   "outputs": [],
   "source": [
    "# export\n",
    "class multi_model:\n",
    "    \"\"\"\n",
    "    Represents a list of `bcml_object` models, parameterized by a number\n",
    "    \"\"\"\n",
    "    \n",
    "    def __init__(self, models, index=None):\n",
    "        self.models = models\n",
    "        self.index = index if index is not None else [i for i in range(len(models))]\n",
    "        \n",
    "    def get_sigs(self, signals, background, tpr=None, fpr=None, sepbg=False):\n",
    "        return [\n",
    "            model.significance(signal, background, tpr=tpr, fpr=fpr, sepbg=sepbg) \n",
    "            for model, signal in zip(self.models, signals)]\n",
    "    \n",
    "    def index2logsigF(self, signals, background, tpr=None, fpr=None, sepbg=False):\n",
    "        sigs = self.get_sigs(signals, background, tpr=None, fpr=None, sepbg=False)\n",
    "        return scipy.interpolate.interp1d(self.index, np.log10(sigs), kind='cubic')\n",
    "    \n",
    "    def index2thresh_opt_improvementF(self, signal, background, tpr=None, fpr=None, sepbg=False, preds=None, labels=None):\n",
    "        sigs = get_sigs(signal, background, tpr=tpr, fpr=fpr, sepbg=sepbg)\n",
    "        opt_thresh_sigs = [\n",
    "            model.best_threshold(signal, background, sepbg=sepbg, preds=preds, labels=labels) for model in self.models]\n",
    "        improvement = [opt_thresh_sig/sig for opt_thresh_sig, sig in zip(sigs, opt_thresh_sigs)]\n",
    "        return scipy.interpolate.interp1d(self.index, improvement, kind='cubic')\n",
    "        \n",
    "    def index2feature_importanceFs(self, features, num_features):\n",
    "        feature_importancess = [model.sorted_feature_importance(features)[:num_features] for model in self.models]\n",
    "        features = [[row[0] for row in feature_importances] for feature_importances in feature_importancess]\n",
    "        # features present in the top \"num_features\" for each model in self.models\n",
    "        present_features = list(set(features[0]).intersection(*features[1:]))\n",
    "        importance_by_feature = [\n",
    "            [feature, \n",
    "             [feature_importancess[i][feature_importancess[i].index(feature)][1] for i in range(len(self.models))]] \n",
    "            for feature in present_features]\n",
    "        return [\n",
    "             [feature, scipy.interpolate.interp1d(self.index, importances, kind='cubic')] \n",
    "             for feature, importances in importance_by_feature]"
   ]
  },
  {
   "cell_type": "code",
   "execution_count": null,
   "metadata": {},
   "outputs": [],
   "source": []
  }
 ],
 "metadata": {
  "kernelspec": {
   "display_name": "Python 3",
   "language": "python",
   "name": "python3"
  }
 },
 "nbformat": 4,
 "nbformat_minor": 4
}
