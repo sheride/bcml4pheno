{
 "cells": [
  {
   "cell_type": "code",
   "execution_count": null,
   "metadata": {},
   "outputs": [],
   "source": [
    "# default_exp multi_model"
   ]
  },
  {
   "cell_type": "code",
   "execution_count": null,
   "metadata": {},
   "outputs": [],
   "source": [
    "# hide\n",
    "from nbdev.showdoc import *"
   ]
  },
  {
   "cell_type": "markdown",
   "metadata": {},
   "source": [
    "# multi_model\n",
    "\n",
    "> Class representing a list of `bcml_object` models, parameterized by a number"
   ]
  },
  {
   "cell_type": "code",
   "execution_count": null,
   "metadata": {},
   "outputs": [],
   "source": [
    "# export\n",
    "import numpy as np\n",
    "import scipy.interpolate"
   ]
  },
  {
   "cell_type": "code",
   "execution_count": null,
   "metadata": {},
   "outputs": [],
   "source": [
    "# export\n",
    "class multi_model:\n",
    "    \"\"\"\n",
    "    Represents a list of `bcml_object` models, parameterized by a number.\n",
    "    \"\"\"\n",
    "    \n",
    "    def __init__(self, models, index=None):\n",
    "        self.models = models\n",
    "        self.index = index if index is not None else [i for i in range(len(models))]\n",
    "        \n",
    "    def get_sigs(self, signals, background, tprs=None, fprs=None, preds=None, \n",
    "                 labels=None, sepbg=False, opt=False):\n",
    "        \"\"\"Returns a list of signal significances for the models in `self.models`\"\"\"\n",
    "        tprs = tprs if tprs is not None else [None] * len(self.models) \n",
    "        fprs = fprs if fprs is not None else [None] * len(self.models) \n",
    "        return [\n",
    "            model.significance(signal, background, tpr=tpr, fpr=fpr, sepbg=sepbg) \n",
    "            for model, signal, tpr, fpr in zip(self.models, signals, tprs, fprs)] if not opt else [\n",
    "            model.best_threshold(signal, background, preds=preds, labels=labels, sepbg=sepbg)[1]\n",
    "            for model, signal in zip(self.models, signals)\n",
    "            ]\n",
    "    \n",
    "    def index2logsigF(self, signals, background, tprs=None, fprs=None, preds=None, labels=None, sepbg=False, opt=False):\n",
    "        \"\"\"Returns an interpolated function giving signal significances as a function of the `index` variable\"\"\"\n",
    "        sigs = self.get_sigs(signals, background, tprs=tprs, fprs=fprs, preds=preds, labels=labels, sepbg=False, opt=opt)\n",
    "        return scipy.interpolate.interp1d(self.index, np.log10(sigs), kind='cubic')\n",
    "    \n",
    "    def index2thresh_opt_improvementF(self, signal, background, tprs=None, fprs=None, sepbg=False, preds=None, \n",
    "                                      labels=None):\n",
    "        \"\"\"Returns an interpolated function giving the factor by which threshold optimization improves\n",
    "        significance as a function of the `index` variable\"\"\"\n",
    "        sigs = get_sigs(signal, background, tprs=tprs, fprs=fprs, sepbg=sepbg)\n",
    "        opt_thresh_sigs = [\n",
    "            model.best_threshold(signal, background, sepbg=sepbg, preds=preds, labels=labels) for model in self.models]\n",
    "        improvement = [opt_thresh_sig/sig for opt_thresh_sig, sig in zip(sigs, opt_thresh_sigs)]\n",
    "        return scipy.interpolate.interp1d(self.index, improvement, kind='cubic')\n",
    "        \n",
    "    def index2feature_importanceFs(self, features, num_features):\n",
    "        \"\"\"Returns a list of feature-function pairs, where each function interpolates its associated feature's\n",
    "        importance as a function of the `index` variable\"\"\"\n",
    "        feature_importancess = [model.sorted_feature_importance(features)[:num_features] for model in self.models]\n",
    "        features = [[row[0] for row in feature_importances] for feature_importances in feature_importancess]\n",
    "        # features present in the top \"num_features\" for each model in self.models\n",
    "        present_features = list(set(features[0]).intersection(*features[1:]))\n",
    "        importance_by_feature = [\n",
    "            [feature, \n",
    "             [feature_importancess[i][feature_importancess[i].index(feature)][1] for i in range(len(self.models))]] \n",
    "            for feature in present_features]\n",
    "        return [\n",
    "             [feature, scipy.interpolate.interp1d(self.index, importances, kind='cubic')] \n",
    "             for feature, importances in importance_by_feature]"
   ]
  },
  {
   "cell_type": "markdown",
   "metadata": {},
   "source": [
    "### Getting up and running"
   ]
  },
  {
   "cell_type": "markdown",
   "metadata": {},
   "source": [
    "To create a `multi_model` object, you need to pass two arguments: a list of `bcml_model`s, and `index`, a list (with the same length) of real numbers parameterizing (or indexing) your models (often the associated new particle mass)."
   ]
  },
  {
   "cell_type": "markdown",
   "metadata": {},
   "source": [
    "### Basic Functionality"
   ]
  },
  {
   "cell_type": "code",
   "execution_count": null,
   "metadata": {},
   "outputs": [
    {
     "data": {
      "text/markdown": [
       "<h4 id=\"multi_model.get_sigs\" class=\"doc_header\"><code>multi_model.get_sigs</code><a href=\"__main__.py#L11\" class=\"source_link\" style=\"float:right\">[source]</a></h4>\n",
       "\n",
       "> <code>multi_model.get_sigs</code>(**`signals`**, **`background`**, **`tprs`**=*`None`*, **`fprs`**=*`None`*, **`preds`**=*`None`*, **`labels`**=*`None`*, **`sepbg`**=*`False`*, **`opt`**=*`False`*)\n",
       "\n"
      ],
      "text/plain": [
       "<IPython.core.display.Markdown object>"
      ]
     },
     "metadata": {},
     "output_type": "display_data"
    }
   ],
   "source": [
    "show_doc(multi_model.get_sigs)"
   ]
  },
  {
   "cell_type": "code",
   "execution_count": null,
   "metadata": {},
   "outputs": [
    {
     "data": {
      "text/markdown": [
       "<h4 id=\"multi_model.index2logsigF\" class=\"doc_header\"><code>multi_model.index2logsigF</code><a href=\"__main__.py#L22\" class=\"source_link\" style=\"float:right\">[source]</a></h4>\n",
       "\n",
       "> <code>multi_model.index2logsigF</code>(**`signals`**, **`background`**, **`tprs`**=*`None`*, **`fprs`**=*`None`*, **`preds`**=*`None`*, **`labels`**=*`None`*, **`sepbg`**=*`False`*, **`opt`**=*`False`*)\n",
       "\n"
      ],
      "text/plain": [
       "<IPython.core.display.Markdown object>"
      ]
     },
     "metadata": {},
     "output_type": "display_data"
    }
   ],
   "source": [
    "show_doc(multi_model.index2logsigF)"
   ]
  },
  {
   "cell_type": "code",
   "execution_count": null,
   "metadata": {},
   "outputs": [
    {
     "data": {
      "text/markdown": [
       "<h4 id=\"multi_model.index2thresh_opt_improvementF\" class=\"doc_header\"><code>multi_model.index2thresh_opt_improvementF</code><a href=\"__main__.py#L26\" class=\"source_link\" style=\"float:right\">[source]</a></h4>\n",
       "\n",
       "> <code>multi_model.index2thresh_opt_improvementF</code>(**`signal`**, **`background`**, **`tprs`**=*`None`*, **`fprs`**=*`None`*, **`sepbg`**=*`False`*, **`preds`**=*`None`*, **`labels`**=*`None`*)\n",
       "\n"
      ],
      "text/plain": [
       "<IPython.core.display.Markdown object>"
      ]
     },
     "metadata": {},
     "output_type": "display_data"
    }
   ],
   "source": [
    "show_doc(multi_model.index2thresh_opt_improvementF)"
   ]
  },
  {
   "cell_type": "code",
   "execution_count": null,
   "metadata": {},
   "outputs": [
    {
     "data": {
      "text/markdown": [
       "<h4 id=\"multi_model.index2feature_importanceFs\" class=\"doc_header\"><code>multi_model.index2feature_importanceFs</code><a href=\"__main__.py#L34\" class=\"source_link\" style=\"float:right\">[source]</a></h4>\n",
       "\n",
       "> <code>multi_model.index2feature_importanceFs</code>(**`features`**, **`num_features`**)\n",
       "\n"
      ],
      "text/plain": [
       "<IPython.core.display.Markdown object>"
      ]
     },
     "metadata": {},
     "output_type": "display_data"
    }
   ],
   "source": [
    "show_doc(multi_model.index2feature_importanceFs)"
   ]
  },
  {
   "cell_type": "code",
   "execution_count": null,
   "metadata": {},
   "outputs": [],
   "source": []
  }
 ],
 "metadata": {
  "kernelspec": {
   "display_name": "Python 3",
   "language": "python",
   "name": "python3"
  }
 },
 "nbformat": 4,
 "nbformat_minor": 4
}
