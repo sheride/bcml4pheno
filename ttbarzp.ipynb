{
 "cells": [
  {
   "cell_type": "code",
   "execution_count": null,
   "metadata": {},
   "outputs": [],
   "source": [
    "# default_exp ttbarzp"
   ]
  },
  {
   "cell_type": "code",
   "execution_count": null,
   "metadata": {},
   "outputs": [],
   "source": [
    "# hide\n",
    "from nbdev.showdoc import *"
   ]
  },
  {
   "cell_type": "markdown",
   "metadata": {},
   "source": [
    "# ttbarzp\n",
    "\n",
    "> Functions yielding information concerning $pp \\to t\\overline{t} \\; Z'$ LHC collider phenomenology."
   ]
  },
  {
   "cell_type": "code",
   "execution_count": null,
   "metadata": {},
   "outputs": [],
   "source": [
    "# export\n",
    "import numpy as np\n",
    "import tensorflow as tf"
   ]
  },
  {
   "cell_type": "markdown",
   "metadata": {},
   "source": [
    "The following two cells contain specific phenomenological data produced by Elijah and Manuel for a collider phenomenology study investigating the $pp \\to t\\overline{t} \\; Z'$ topology at the Large Hadron Collider (LHC). In particular, these two functions return signal masses, signal cross sections, and background cross sections computationally computed using MadGraph.\n",
    "\n",
    "The three backgrounds, in order, are:\n",
    "\n",
    " - $pp \\to t\\overline{t}h$\n",
    " - $pp \\to t\\overline{t}t\\overline{t}$\n",
    " - $pp \\to t\\overline{t} \\; \\setminus \\; h$"
   ]
  },
  {
   "cell_type": "code",
   "execution_count": null,
   "metadata": {},
   "outputs": [],
   "source": [
    "# export\n",
    "def get_elijah_ttbarzp_cs():\n",
    "    r\"\"\"\n",
    "    Contains cross section information produced by Elijah for $pp \\to t\\overline{t} \\; Z'$ collider phenomenology.\n",
    "    \n",
    "    Returns list containing signal masses, signal cross sections (for those masses, in pb), and background cross sections \n",
    "    (also in pb)\n",
    "    \"\"\"\n",
    "    # Z' masses (GeV) for which Elijah created signal samples\n",
    "    elijah_masses = [10, 50, 100, 200, 350, 500, 1000, 2000, 5000]\n",
    "    # signal cross sections (pb)  \n",
    "    elijah_sig_css = [9.801, 0.5445, 0.1442, 0.03622, 0.009998, 0.003802, 0.0003936, 2.034e-05, 2.748e-08]\n",
    "    # background cross sections (pb)\n",
    "    elijah_bg_css = [0.106, 0.0117, 5.58]\n",
    "    return [elijah_masses, elijah_sig_css, elijah_bg_css]"
   ]
  },
  {
   "cell_type": "code",
   "execution_count": null,
   "metadata": {},
   "outputs": [],
   "source": [
    "# export\n",
    "def get_manuel_ttbarzp_cs():\n",
    "    r\"\"\"\n",
    "    Contains cross section information produced through MadGraph by Manuel for collider phenomenology regarding\n",
    "    the semihadronic, semileptonic $pp \\to t\\overline{t} \\; Z', Z' \\to b\\overline{b}$ channel\n",
    "    \"\"\"\n",
    "    # Z' masses (GeV) for which I (Elijah) created signal samples\n",
    "    manuel_masses = [350, 500, 750, 1000, 2000, 3000, 4000]\n",
    "    # signal cross sections (pb)  \n",
    "    manuel_sig_css = [0.001395, 0.0007823, 0.0003429, 0.0001692, 1.808e-05, 1.325e-06, 4.456e-07]\n",
    "    # background cross sections (pb)  \n",
    "    manuel_bg_css = [0.1339, 0.01187, 5.603]\n",
    "    return [manuel_masses, manuel_sig_css, manuel_bg_css]"
   ]
  },
  {
   "cell_type": "code",
   "execution_count": null,
   "metadata": {},
   "outputs": [],
   "source": [
    "# export\n",
    "def import47Ddata(name):\n",
    "    r\"\"\"\n",
    "    Imports `name.npy` file containing 47-dimensional data for training\n",
    "\n",
    "    Available files:\n",
    "     - bgh.npy (Standard Model background 1, $pp \\to t\\overline{t}h$)\n",
    "     - bg4t.npy (Standard Model background 2, $pp \\to t\\overline{t}t\\overline{t}$)\n",
    "     - bgnoh.npy (Standard Model background 3, $pp \\to t\\overline{t} \\; \\setminus \\; h$)\n",
    "     - sig350G.npy ($Z'$ signal, $m_{Z'} = 350$ GeV)\n",
    "     - sig500G.npy ($Z'$ signal, $m_{Z'} = 500$ GeV)\n",
    "     - sig1T.npy ($Z'$ signal, $m_{Z'} = 1$ TeV)\n",
    "     - sig2T.npy ($Z'$ signal, $m_{Z'} = 2$ TeV)\n",
    "     - sig4T.npy ($Z'$ signal, $m_{Z'} = 4$ TeV)\n",
    "    \"\"\"\n",
    "\n",
    "    if name[-4:] == '.npy':\n",
    "        name = name[:-4]           \n",
    "    url = 'https://storage.googleapis.com/ttbarzp/47dim/'\n",
    "    try: \n",
    "        path = tf.keras.utils.get_file(f'{name}.npy', url + name + '.npy')\n",
    "        data = np.load(path)\n",
    "        return data\n",
    "    except:\n",
    "        print(f\"{name}.npy doesn't appear to exist\")"
   ]
  },
  {
   "cell_type": "code",
   "execution_count": null,
   "metadata": {},
   "outputs": [],
   "source": [
    "# export\n",
    "def get47Dfeatures():\n",
    "    \"\"\"\n",
    "    Returns list containing the names of the 47 features found in the data accessible through \n",
    "    `ttbarzp.import47Ddata()`\n",
    "    \"\"\"\n",
    "    return [\n",
    "        'pT b1', 'pT b2', 'pT b3', 'pT b4',\n",
    "        'sdEta b1 b2', 'sdEta b1 b3', 'sdEta b1 b4', 'sdEta b2 b3', 'sdEta b2 b4', 'sdEta b3 b4',\n",
    "        'sdPhi b1 b2', 'sdPhi b1 b3', 'sdPhi b1 b4', 'sdPhi b2 b3', 'sdPhi b2 b4', 'sdPhi b3 b4',\n",
    "        'dR b1 b2', 'dR b1 b3', 'dR b1 b4', 'dR b2 b3', 'dR b2 b4', 'dR b3 b4',\n",
    "        'MET', 'pT l', 'MT l MET', \n",
    "        'M b1 b2', 'M b1 b3', 'M b1 b4', 'M b2 b3', 'M b2 b4', 'M b3 b4',\n",
    "        'MT b1 l MET', 'MT b2 l MET', 'MT b3 l MET', 'MT b4 l MET',\n",
    "        'M j1 j2', 'pT j1', 'pT j2', 'dR j1 j2', \n",
    "        'dR b1 l', 'dR b2 l', 'dR b3 l', 'dR b4 l',\n",
    "        'sdPhi b1 l', 'sdPhi b2 l', 'sdPhi b3 l', 'sdPhi b4 l']"
   ]
  },
  {
   "cell_type": "code",
   "execution_count": null,
   "metadata": {},
   "outputs": [],
   "source": []
  }
 ],
 "metadata": {
  "kernelspec": {
   "display_name": "Python 3",
   "language": "python",
   "name": "python3"
  }
 },
 "nbformat": 4,
 "nbformat_minor": 4
}
