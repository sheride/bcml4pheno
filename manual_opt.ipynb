{
 "cells": [
  {
   "cell_type": "code",
   "execution_count": null,
   "metadata": {},
   "outputs": [],
   "source": [
    "import numpy as np\n",
    "import itertools"
   ]
  },
  {
   "cell_type": "code",
   "execution_count": null,
   "metadata": {},
   "outputs": [],
   "source": [
    "def manual_significance(S,Bs,se,bes):\n",
    "    return (S * se) / np.sqrt(S * se + sum([B * be for B, be in zip(Bs, bes)]))"
   ]
  },
  {
   "cell_type": "code",
   "execution_count": null,
   "metadata": {},
   "outputs": [],
   "source": [
    "def points2hrs(points):\n",
    "    points2sec = 126 / (5**3 * 6)\n",
    "    return points * points2sec * 3600**-1"
   ]
  },
  {
   "cell_type": "code",
   "execution_count": null,
   "metadata": {},
   "outputs": [],
   "source": [
    "def maxhrs2points(maxhrs):\n",
    "    points2sec = 126 / (5**3 * 6)\n",
    "    return maxhrs * 3600 * points2sec**-1"
   ]
  },
  {
   "cell_type": "code",
   "execution_count": null,
   "metadata": {},
   "outputs": [],
   "source": [
    "def find_sig_dep(signal, backgrounds, numS, numBs, cuts):\n",
    "    \"\"\"Each row of cuts should take the form [index, isCutBelow, vals]\n",
    "    where 'index' gives the index of the feature being cut on\n",
    "    in the signal/background data, 'isCutBelow' is a boolean specifying\n",
    "    if that variable should involve removing data points below (True) or\n",
    "    above (False) the given values, and 'vals' is a list of values to cut at\"\"\"\n",
    "    \n",
    "    indices = [row[0] for row in cuts]\n",
    "    isCutBelows = [row[1] for row in cuts]\n",
    "    points = list(itertools.product(*[row[-1] for row in cuts]))\n",
    "    sigsize = len(signal)\n",
    "    bgsizes = [len(bg) for bg in backgrounds]\n",
    "    sigs = []\n",
    "    sigsizeprimes = []\n",
    "    bgsizesprimes = []\n",
    "    for point in points:\n",
    "        sigsizeprime = np.count_nonzero(np.logical_and.reduce(\n",
    "            np.array([np.where(signal[:,index] > val, isCutBelow, not isCutBelow) \n",
    "                      for index, isCutBelow, val in zip(indices, isCutBelows, point)])))\n",
    "        bgsizesprime = np.array([np.count_nonzero(np.logical_and.reduce(\n",
    "            np.array([np.where(background[:,index] > val, isCutBelow, not isCutBelow) \n",
    "                      for index, isCutBelow, val in zip(indices, isCutBelows, point)]))) for background in backgrounds])\n",
    "        sigsizeprimes.append(sigsizeprime)\n",
    "        bgsizesprimes.append(bgsizesprime)\n",
    "        sigs.append(manual_significance(numS, numBs, sigsizeprime/sigsize, bgsizesprime/bgsizes))\n",
    "    return [points, sigs, sigsizeprimes, bgsizesprimes]"
   ]
  },
  {
   "cell_type": "code",
   "execution_count": null,
   "metadata": {},
   "outputs": [],
   "source": [
    "sigss = signal_data\n",
    "bgss = background_data\n",
    "names = get47Dfeatures()\n",
    "masses, sig_css, bg_css = get_elijah_ttbarzp_cs()\n",
    "zp_cs = cross_section_helper(masses, sig_css, bg_css, mass_units='GeV')\n",
    "masses = [350, 500, 1000, 2000, 4000]\n",
    "sig_css = [zp_cs.sig_cs(mass) for mass in masses]\n",
    "conv = 10**15 / 10**12 # conv * lumi (in fb^{-1}) * cross sec (in pb) = # of events\n",
    "lumi = 3000\n",
    "signal_yields = np.array([conv * lumi * sig_cs for sig_cs in sig_css])\n",
    "background_yields = np.array([conv * lumi * bg_cs for bg_cs in bg_css])"
   ]
  },
  {
   "cell_type": "code",
   "execution_count": null,
   "metadata": {},
   "outputs": [
    {
     "name": "stdout",
     "output_type": "stream",
     "text": [
      "7.248418610012742\n",
      "2.757897361779127\n",
      "0.2855952155740879\n",
      "0.014759138609928545\n",
      "0.000260774522132171\n"
     ]
    }
   ],
   "source": [
    "for signal_yield in signal_yields:\n",
    "    print(manual_significance(signal_yield, background_yields, 1, [1]*3))"
   ]
  },
  {
   "cell_type": "code",
   "execution_count": null,
   "metadata": {},
   "outputs": [
    {
     "name": "stdout",
     "output_type": "stream",
     "text": [
      "1000000 [1000000, 1000000, 1000000]\n",
      "Runtime: 134 seconds\n"
     ]
    }
   ],
   "source": [
    "time_before = datetime.now().minute * 60 + datetime.now().second\n",
    "cuts = [[names.index('M b1 b2'), True, [0, 100, 200, 300, 400]],\n",
    "        [names.index('M b1 b3'), True, [0, 100, 200, 300, 400]],\n",
    "        [names.index('M j1 j2'), False, [100, 200, 300, 400, 10000]],\n",
    "        [names.index('pT b1'), True, [0, 100, 200, 300, 400, 500]]]\n",
    "points, sigs, sigsizeprimes, bgsizesprimes = find_sig_dep(sigss[0], bgss, signal_yields[0], background_yields, cuts)\n",
    "time_after = datetime.now().minute * 60 + datetime.now().second\n",
    "print(f\"Runtime: {time_after - time_before} seconds\")"
   ]
  },
  {
   "cell_type": "code",
   "execution_count": null,
   "metadata": {},
   "outputs": [
    {
     "name": "stdout",
     "output_type": "stream",
     "text": [
      "20.5630757507069\n",
      "(300, 200, 200, 200)\n"
     ]
    }
   ],
   "source": [
    "print(max(sigs))\n",
    "print(points[sigs.index(max(sigs))])"
   ]
  },
  {
   "cell_type": "code",
   "execution_count": null,
   "metadata": {},
   "outputs": [
    {
     "name": "stdout",
     "output_type": "stream",
     "text": [
      "Runtime: 127 seconds\n"
     ]
    }
   ],
   "source": [
    "time_before = datetime.now().minute * 60 + datetime.now().second\n",
    "cuts = [[names.index('M b1 b2'), True, [200, 300, 400, 500, 600]],\n",
    "        [names.index('M b1 b3'), True, [0, 100, 200, 300, 400]],\n",
    "        [names.index('M j1 j2'), False, [100, 200, 300, 400, 10000]],\n",
    "        [names.index('pT b1'), True, [0, 100, 200, 300, 400, 500]]]\n",
    "points, sigs, sigsizeprimes, bgsizesprimes = find_sig_dep(sigss[1], bgss, signal_yields[1], background_yields, cuts)\n",
    "time_after = datetime.now().minute * 60 + datetime.now().second\n",
    "print(f\"Runtime: {time_after - time_before} seconds\")"
   ]
  },
  {
   "cell_type": "code",
   "execution_count": null,
   "metadata": {},
   "outputs": [
    {
     "name": "stdout",
     "output_type": "stream",
     "text": [
      "12.293874578677672\n",
      "(400, 300, 200, 300)\n"
     ]
    }
   ],
   "source": [
    "print(max(sigs))\n",
    "print(points[sigs.index(max(sigs))])"
   ]
  },
  {
   "cell_type": "code",
   "execution_count": null,
   "metadata": {},
   "outputs": [
    {
     "name": "stdout",
     "output_type": "stream",
     "text": [
      "Runtime: 102 seconds\n"
     ]
    }
   ],
   "source": [
    "time_before = datetime.now().minute * 60 + datetime.now().second\n",
    "cuts = [[names.index('M b1 b2'), True, [600, 700, 900, 1100, 1200]],\n",
    "        [names.index('M b1 b3'), True, [0, 100, 200, 300, 400]],\n",
    "        [names.index('M j1 j2'), False, [100, 200, 300, 400, 10000]],\n",
    "        [names.index('pT b1'), True, [200, 300, 400, 500, 600]]]\n",
    "points, sigs, sigsizeprimes, bgsizesprimes = find_sig_dep(sigss[2], bgss, signal_yields[2], background_yields, cuts)\n",
    "time_after = datetime.now().minute * 60 + datetime.now().second\n",
    "print(f\"Runtime: {time_after - time_before} seconds\")"
   ]
  },
  {
   "cell_type": "code",
   "execution_count": null,
   "metadata": {},
   "outputs": [
    {
     "name": "stdout",
     "output_type": "stream",
     "text": [
      "6.22708730618894\n",
      "(900, 300, 200, 400)\n"
     ]
    }
   ],
   "source": [
    "print(max(sigs))\n",
    "print(points[sigs.index(max(sigs))])"
   ]
  },
  {
   "cell_type": "code",
   "execution_count": null,
   "metadata": {},
   "outputs": [
    {
     "name": "stdout",
     "output_type": "stream",
     "text": [
      "Runtime: 105 seconds\n"
     ]
    }
   ],
   "source": [
    "time_before = datetime.now().minute * 60 + datetime.now().second\n",
    "cuts = [[names.index('M b1 b2'), True, [1200, 1500, 1800, 2000, 2300]],\n",
    "        [names.index('M b1 b3'), True, [200, 300, 400, 500, 600]],\n",
    "        [names.index('M j1 j2'), False, [100, 200, 300, 400, 10000]],\n",
    "        [names.index('pT b1'), True, [600, 700, 800, 900, 1000]]]\n",
    "points, sigs, sigsizeprimes, bgsizesprimes = find_sig_dep(sigss[3], bgss, signal_yields[3], background_yields, cuts)\n",
    "time_after = datetime.now().minute * 60 + datetime.now().second\n",
    "print(f\"Runtime: {time_after - time_before} seconds\")"
   ]
  },
  {
   "cell_type": "code",
   "execution_count": null,
   "metadata": {},
   "outputs": [
    {
     "name": "stdout",
     "output_type": "stream",
     "text": [
      "3.1672873562345023\n",
      "(1800, 400, 200, 800)\n"
     ]
    }
   ],
   "source": [
    "print(max(sigs))\n",
    "print(points[sigs.index(max(sigs))])"
   ]
  },
  {
   "cell_type": "code",
   "execution_count": null,
   "metadata": {},
   "outputs": [
    {
     "name": "stdout",
     "output_type": "stream",
     "text": [
      "Runtime: 100 seconds\n"
     ]
    }
   ],
   "source": [
    "time_before = datetime.now().minute * 60 + datetime.now().second\n",
    "cuts = [[names.index('M b1 b2'), True, [2000, 2500, 3000, 3500, 4000]],\n",
    "        [names.index('M b1 b3'), True, [0, 10, 20, 50]],\n",
    "        [names.index('M j1 j2'), False, [100, 200, 300, 400, 500]],\n",
    "        [names.index('pT b1'), True, [0, 50, 100, 200, 300]]]\n",
    "points, sigs, sigsizeprimes, bgsizesprimes = find_sig_dep(sigss[4], bgss, signal_yields[4], background_yields, cuts)\n",
    "time_after = datetime.now().minute * 60 + datetime.now().second\n",
    "print(f\"Runtime: {time_after - time_before} seconds\")"
   ]
  },
  {
   "cell_type": "code",
   "execution_count": null,
   "metadata": {},
   "outputs": [
    {
     "name": "stdout",
     "output_type": "stream",
     "text": [
      "1.0127164593743987\n",
      "(3500, 0, 200, 100)\n"
     ]
    }
   ],
   "source": [
    "print(max(sigs))\n",
    "print(points[sigs.index(max(sigs))])"
   ]
  },
  {
   "cell_type": "code",
   "execution_count": null,
   "metadata": {},
   "outputs": [],
   "source": []
  }
 ],
 "metadata": {
  "kernelspec": {
   "display_name": "Python 3",
   "language": "python",
   "name": "python3"
  }
 },
 "nbformat": 4,
 "nbformat_minor": 4
}
