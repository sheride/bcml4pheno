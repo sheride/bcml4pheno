{
 "cells": [
  {
   "cell_type": "code",
   "execution_count": null,
   "metadata": {},
   "outputs": [],
   "source": [
    "# default_exp manual_opt"
   ]
  },
  {
   "cell_type": "code",
   "execution_count": null,
   "metadata": {},
   "outputs": [],
   "source": [
    "# hide\n",
    "from nbdev.showdoc import *"
   ]
  },
  {
   "cell_type": "markdown",
   "metadata": {},
   "source": [
    "# manual_opt\n",
    "\n",
    "> Functions enabling a manual optimization of signal significance for a phenomenological problem (primarily for the purposes of comparison with the performance of a machine learning algorithm)"
   ]
  },
  {
   "cell_type": "code",
   "execution_count": null,
   "metadata": {},
   "outputs": [],
   "source": [
    "# export\n",
    "import numpy as np\n",
    "import itertools"
   ]
  },
  {
   "cell_type": "code",
   "execution_count": null,
   "metadata": {},
   "outputs": [],
   "source": [
    "# export\n",
    "def manual_significance(S,Bs,se,bes):\n",
    "    \"\"\"Returns signal significance given yield and efficiency for signal and background\"\"\"\n",
    "    return (S * se) / np.sqrt(S * se + sum([B * be for B, be in zip(Bs, bes)]))"
   ]
  },
  {
   "cell_type": "code",
   "execution_count": null,
   "metadata": {},
   "outputs": [],
   "source": [
    "# export\n",
    "def points2hrs(points, points2sec=126/(5**3 * 6)):\n",
    "    \"\"\"Returns number of hours required to compute significance for given number of points\"\"\"\n",
    "    return points * points2sec * 3600**-1"
   ]
  },
  {
   "cell_type": "code",
   "execution_count": null,
   "metadata": {},
   "outputs": [],
   "source": [
    "# export\n",
    "def maxhrs2points(maxhrs, points2sec=126/(5**3 * 6)):\n",
    "    \"\"\"Returns maximal number of points capable of being computed during a given number of hours\"\"\"\n",
    "    return maxhrs * 3600 * points2sec**-1"
   ]
  },
  {
   "cell_type": "code",
   "execution_count": null,
   "metadata": {},
   "outputs": [],
   "source": [
    "# export\n",
    "def sig_grid(signal, backgrounds, numS, numBs, cuts):\n",
    "    r\"\"\"\n",
    "    Computes signal significance for a high-dimensional grid of event selection criteria.\n",
    "    \n",
    "    `signal` should contain 2D signal data, `backgrounds` should be a list where the $i$th element\n",
    "    contains 2D background data for the $i$th background type, `numS` should give signal yield,\n",
    "    `numBs` should be a list of background yields for each background type, and `cuts` should \n",
    "    take the following form.\n",
    "    \n",
    "    Each row of `cuts` should take the form [index, isCutBelow, vals]\n",
    "    where `index` gives the index of the feature being cut on\n",
    "    in the signal/background data, `isCutBelow` is a boolean specifying\n",
    "    if that variable should involve removing data points below (True) or\n",
    "    above (False) the given values, and `vals` is a list of values to cut at\n",
    "    \"\"\"\n",
    "    \n",
    "    indices = [row[0] for row in cuts]\n",
    "    isCutBelows = [row[1] for row in cuts]\n",
    "    points = list(itertools.product(*[row[-1] for row in cuts]))\n",
    "    sigsize = len(signal)\n",
    "    bgsizes = np.array([len(bg) for bg in backgrounds])\n",
    "    sigs = []\n",
    "    sigsizeprimes = []\n",
    "    bgsizesprimes = []\n",
    "    for point in points:\n",
    "        sigsizeprime = np.count_nonzero(np.logical_and.reduce(\n",
    "            np.array([np.where(signal[:,index] > val, isCutBelow, not isCutBelow) \n",
    "                      for index, isCutBelow, val in zip(indices, isCutBelows, point)])))\n",
    "        bgsizesprime = np.array([np.count_nonzero(np.logical_and.reduce(\n",
    "            np.array([np.where(background[:,index] > val, isCutBelow, not isCutBelow) \n",
    "                      for index, isCutBelow, val in zip(indices, isCutBelows, point)]))) for background in backgrounds])\n",
    "        sigsizeprimes.append(sigsizeprime)\n",
    "        bgsizesprimes.append(bgsizesprime)\n",
    "        sigs.append(manual_significance(numS, numBs, sigsizeprime/sigsize, bgsizesprime/bgsizes))\n",
    "    return [points, sigs, np.array(sigsizeprimes)/sigsize, np.array(bgsizesprimes)/bgsizes]"
   ]
  },
  {
   "cell_type": "code",
   "execution_count": null,
   "metadata": {},
   "outputs": [],
   "source": [
    "# export\n",
    "def opt_sig(signal, backgrounds, numS, numBs, cuts, num_iter=3):\n",
    "    \"\"\"\n",
    "    Iteratively calls `sig_grid` with finer and finer spectra of event selection criteria\n",
    "    (kinematic cuts) to check\n",
    "    \"\"\"\n",
    "    for i in range(num_iter):\n",
    "        points, sigs, _, __ = sig_grid(signal, backgrounds, numS, numBs, cuts)\n",
    "        max_sig_pt = points[sigs.index(max(sigs))]\n",
    "        for j, val in enumerate(max_sig_pt):\n",
    "            index = np.where(cuts[j][-1]==val)[0][0]\n",
    "            length = len(cuts[j][-1])\n",
    "            min_index, max_index = [max(0, index - 1), min(length - 1, index + 1)]\n",
    "            cuts[j][-1] = np.linspace(cuts[j][-1][min_index], cuts[j][-1][max_index], 5)\n",
    "    return [points[sigs.index(max(sigs))], max(sigs)]"
   ]
  },
  {
   "cell_type": "code",
   "execution_count": null,
   "metadata": {},
   "outputs": [],
   "source": []
  }
 ],
 "metadata": {
  "kernelspec": {
   "display_name": "Python 3 (ipykernel)",
   "language": "python",
   "name": "python3"
  }
 },
 "nbformat": 4,
 "nbformat_minor": 4
}
